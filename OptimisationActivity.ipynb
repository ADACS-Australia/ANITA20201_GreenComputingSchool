{
 "cells": [
  {
   "cell_type": "markdown",
   "id": "d2dbc71b-9b65-4ee1-be15-b35d86261c78",
   "metadata": {},
   "source": [
    "# Task 1: timing and profiling matrix multiplication\n",
    "\n",
    "To start out we are going to take some of the lessons learned in the timing and profiling lesson and apply them to a simple problem: multiplying two matricies together."
   ]
  },
  {
   "cell_type": "markdown",
   "id": "c760de38-c301-4079-87c9-463142ee3be8",
   "metadata": {},
   "source": [
    "We begin by creating some test data using python built-ins. Python has a `list` type, but it's just a collection of objects. You can emulate a 2d array or matrix by creating a list-of-lists like this:"
   ]
  },
  {
   "cell_type": "code",
   "execution_count": null,
   "id": "c7b6c81e-839e-4c34-b949-33285adbcdb6",
   "metadata": {},
   "outputs": [],
   "source": [
    "mat = [[0,1,2],\n",
    "       [3,4,5],\n",
    "       [6,7,8]]"
   ]
  },
  {
   "cell_type": "markdown",
   "id": "743ef960-da4e-42d0-9625-12c0c53f9de0",
   "metadata": {},
   "source": [
    "We want to test our functions using some large matrix problems so we'll use numpy to generate a 50x50 array of integers between 0 and 10.\n",
    "\n",
    "Note that we convert these numpy arrays into python list-of-lists at the end."
   ]
  },
  {
   "cell_type": "code",
   "execution_count": null,
   "id": "2a96a1ef-dd57-44dd-b1b5-cee7b53e7fe2",
   "metadata": {},
   "outputs": [],
   "source": [
    "import numpy as np"
   ]
  },
  {
   "cell_type": "code",
   "execution_count": null,
   "id": "d46993ac-d5ca-4e9d-a5a0-0d7ab2492257",
   "metadata": {},
   "outputs": [],
   "source": [
    "# use numpy to generate some large random integer arrays\n",
    "np.random.seed(12345)\n",
    "shape = (50,50)\n",
    "A = np.random.randint(0, high=10, size=shape)\n",
    "B = np.random.randint(0, high=10, size=shape)\n",
    "# Compute the answer for future testing\n",
    "C = np.matmul(A,B)\n",
    "# Conver to python list-of-list\n",
    "A = A.tolist()\n",
    "B = B.tolist()\n",
    "C = C.tolist()"
   ]
  },
  {
   "cell_type": "code",
   "execution_count": null,
   "id": "b18134e5-4c84-4f3d-a2dc-efb7476c7667",
   "metadata": {},
   "outputs": [],
   "source": [
    "type(A)"
   ]
  },
  {
   "cell_type": "markdown",
   "id": "d485b49b-9056-4ec1-8372-e9e18e05d2ad",
   "metadata": {},
   "source": [
    "Now that we have test data we can write our matrix multiplication function.\n",
    "\n",
    "Our goal is to have $C_{ij} = \\Sigma_k (A_{ik}*B_{kj})$ which means we need a 3x nested loop.\n",
    "\n",
    "We also need to check that the input data are actually formed correctly and that they are compatible for matrix multiplication."
   ]
  },
  {
   "cell_type": "code",
   "execution_count": null,
   "id": "88e4db30-6fdd-4310-8848-fad180a9e27e",
   "metadata": {},
   "outputs": [],
   "source": [
    "def mat_mul_0(A,B):\n",
    "    \"\"\"\n",
    "    Compute the matrix multiplicatoin of A and B.\n",
    "    Assuming that A,B are python lists of lists and we use only pure python.\n",
    "    \n",
    "    Adapted from https://stackoverflow.com/a/10508133/1710603\n",
    "    \"\"\"\n",
    "    rows_A = len(A)\n",
    "    cols_A = len(A[0])\n",
    "    rows_B = len(B)\n",
    "    cols_B = len(B[0])\n",
    "\n",
    "    if cols_A != rows_B:\n",
    "      return None\n",
    "\n",
    "    # create a results matrix initialised to zeros\n",
    "    C = [[0 for row in range(cols_B)] for col in range(rows_A)]\n",
    "\n",
    "    # recall this is actually a triple loop, once each for the dimensions of C, and again for the sum over k\n",
    "    # C_ij = SUM_k ( A_ik*B_kj)\n",
    "    for i in range(rows_A):\n",
    "        for j in range(cols_B):\n",
    "            for k in range(cols_A):\n",
    "                C[i][j] += A[i][k] * B[k][j]\n",
    "    return C"
   ]
  },
  {
   "cell_type": "markdown",
   "id": "aae09af3-470f-44c8-8dc0-f8cde674606c",
   "metadata": {},
   "source": [
    "It is good practice when profiling to ensure that your optimisations don't break your code. A solid test suite will come in hand here. For now we just write a simple function as our test"
   ]
  },
  {
   "cell_type": "code",
   "execution_count": null,
   "id": "8425bf9b-06a6-45f9-b385-123804424d53",
   "metadata": {},
   "outputs": [],
   "source": [
    "def correct(A, B, answer, func):\n",
    "    \"\"\"\n",
    "    Test that AxB == answer\n",
    "    \"\"\"\n",
    "    return np.all(func(A,B)==answer)"
   ]
  },
  {
   "cell_type": "code",
   "execution_count": null,
   "id": "88cf8e7f-6d23-43b9-8cb4-249578b537fc",
   "metadata": {},
   "outputs": [],
   "source": [
    "correct(A,B,C,mat_mul_0)"
   ]
  },
  {
   "cell_type": "markdown",
   "id": "21e83a9d-f273-4304-bf18-3fecf38b13a2",
   "metadata": {},
   "source": [
    "Once we confirm that the function gives the right result, we can time it to get a baseline for future comparison."
   ]
  },
  {
   "cell_type": "code",
   "execution_count": null,
   "id": "2a04c9ee-96f9-414b-86fd-c025f06ffb27",
   "metadata": {},
   "outputs": [],
   "source": [
    "%timeit mat_mul_0(A,B)"
   ]
  },
  {
   "cell_type": "markdown",
   "id": "3f1da367-436c-4476-b50c-7682a211eec7",
   "metadata": {
    "tags": []
   },
   "source": [
    "Now let us try our hand at some optimisation.\n",
    "\n",
    "The line `C[i][j] += A[i][k] * B[k][j]` is making repeated read/write access to an array element in C. This involves two lookups, one for each index.\n",
    "This sounds like a bad idea so our first test is to see if we can refactor the code to use a more local variable to store the data during the loop and then write to the C matrix just once."
   ]
  },
  {
   "cell_type": "code",
   "execution_count": null,
   "id": "898e57af-a515-4701-8492-625103ff61fe",
   "metadata": {},
   "outputs": [],
   "source": [
    "def mat_mul_1(A,B):\n",
    "    \"\"\"\n",
    "    Compute the matrix multiplicatoin of A and B.\n",
    "    with temp storage\n",
    "    \"\"\"\n",
    "    rows_A = len(A)\n",
    "    cols_A = len(A[0])\n",
    "    rows_B = len(B)\n",
    "    cols_B = len(B[0])\n",
    "\n",
    "    if cols_A != rows_B:\n",
    "      return None\n",
    "\n",
    "    # create a results matrix initialised to zeros\n",
    "    C = [[0 for row in range(cols_B)] for col in range(rows_A)]\n",
    "\n",
    "    # recall this is actually a triple loop, once each for the dimensions of C, and again for the sum over k\n",
    "    # C_ij = SUM_k ( A_ik*B_kj)\n",
    "    for i in range(rows_A):\n",
    "        for j in range(cols_B):\n",
    "            n =0\n",
    "            for k in range(cols_A):\n",
    "                n += A[i][k] * B[k][j]\n",
    "            C[i][j] =n\n",
    "    return C"
   ]
  },
  {
   "cell_type": "code",
   "execution_count": null,
   "id": "6318cf28-afb4-4708-af00-2a3aa9104feb",
   "metadata": {},
   "outputs": [],
   "source": [
    "correct(A,B,C,mat_mul_1)"
   ]
  },
  {
   "cell_type": "code",
   "execution_count": null,
   "id": "1197105c-3f71-48cf-9bff-ff350fd88b3c",
   "metadata": {},
   "outputs": [],
   "source": [
    "%timeit mat_mul_1(A,B)"
   ]
  },
  {
   "cell_type": "markdown",
   "id": "2fe841b5-26bd-4cb2-984c-7f3becbb4de2",
   "metadata": {},
   "source": [
    "Did that help?"
   ]
  },
  {
   "cell_type": "markdown",
   "id": "cc513d17-1d65-431b-92d1-9af0d398afac",
   "metadata": {},
   "source": [
    "Suppose that we insted wanted to do away with the temp variable, and collapse one of our loops using a generator function.\n",
    "\n",
    "That is, we create a generator which returns the `A[i][k] * B[k][j]` result for each `k` and then we `sum()` over that.\n",
    "This is called list comprehension and it is a common way to in-line or one-line a simple loop.\n",
    "\n",
    "Lets see if it will make a difference to our run time."
   ]
  },
  {
   "cell_type": "code",
   "execution_count": null,
   "id": "8b47b6f3-eb98-4fc5-846b-9bf1b4665a00",
   "metadata": {},
   "outputs": [],
   "source": [
    "def mat_mul_2(A,B):\n",
    "    \"\"\"\n",
    "    Compute the matrix multiplicatoin of A and B.\n",
    "    with list comprehension\n",
    "    \"\"\"\n",
    "    rows_A = len(A)\n",
    "    cols_A = len(A[0])\n",
    "    rows_B = len(B)\n",
    "    cols_B = len(B[0])\n",
    "\n",
    "    if cols_A != rows_B:\n",
    "      return None\n",
    "\n",
    "    # create a results matrix initialised to zeros\n",
    "    C = [[0 for row in range(cols_B)] for col in range(rows_A)]\n",
    "\n",
    "    # recall this is actually a triple loop, once each for the dimensions of C, and again for the sum over k\n",
    "    # C_ij = SUM_k ( A_ik*B_kj)\n",
    "    for i in range(rows_A):\n",
    "        for j in range(cols_B):\n",
    "            C[i][j] = sum(A[i][k] * B[k][j] for k in range(cols_A))\n",
    "    return C"
   ]
  },
  {
   "cell_type": "code",
   "execution_count": null,
   "id": "ca2929e1-fc54-4d65-9a14-daabde891c85",
   "metadata": {},
   "outputs": [],
   "source": [
    "correct(A,B,C, mat_mul_2)"
   ]
  },
  {
   "cell_type": "code",
   "execution_count": null,
   "id": "470922be-eab6-48ed-b2b1-aab52bc6b55d",
   "metadata": {},
   "outputs": [],
   "source": [
    "%timeit mat_mul_2(A,B)"
   ]
  },
  {
   "cell_type": "markdown",
   "id": "3fd44726-7b68-441f-9aab-3d994384876d",
   "metadata": {},
   "source": [
    "How did that work out?\n",
    "\n",
    "Lets go crazy and replace **all** the loops with list comprehension.\n",
    "\n",
    "Bonus, we don't have to intialise the C matrix!\n",
    "\n",
    "This should be amazing!"
   ]
  },
  {
   "cell_type": "code",
   "execution_count": null,
   "id": "ac47db86-11de-45da-afb2-02a354d226fc",
   "metadata": {},
   "outputs": [],
   "source": [
    "def mat_mul_3(A,B):\n",
    "    \"\"\"\n",
    "    Compute the matrix multiplicatoin of A and B.\n",
    "    with full list comprehension\n",
    "    \"\"\"\n",
    "    rows_A = len(A)\n",
    "    cols_A = len(A[0])\n",
    "    rows_B = len(B)\n",
    "    cols_B = len(B[0])\n",
    "\n",
    "    if cols_A != rows_B:\n",
    "      return None\n",
    "\n",
    "    C = [ [sum(A[i][k] * B[k][j] for k in range(cols_A)) for j in range(cols_B)] for i in range(rows_A)]\n",
    "    return C"
   ]
  },
  {
   "cell_type": "code",
   "execution_count": null,
   "id": "d2afa811-6427-4fe2-95cc-7e0ba8aae6fa",
   "metadata": {},
   "outputs": [],
   "source": [
    "correct(A,B,C,mat_mul_3)"
   ]
  },
  {
   "cell_type": "code",
   "execution_count": null,
   "id": "db824e00-b0c1-4a18-bf00-ce40dbe9d347",
   "metadata": {},
   "outputs": [],
   "source": [
    "%timeit mat_mul_3(A,B)"
   ]
  },
  {
   "cell_type": "markdown",
   "id": "fb492234-cafb-4f83-a10d-4e1c8d120d12",
   "metadata": {},
   "source": [
    "This isn't going as planned.\n",
    "\n",
    "So far we have mostly just been working on hunches and guesses as to what is causing the various slow downs.\n",
    "Lets do a proper profile of this funciton to see where the slow points really are."
   ]
  },
  {
   "cell_type": "code",
   "execution_count": null,
   "id": "76a2e7f7-d37e-4b78-acd9-66a133fb0a1a",
   "metadata": {},
   "outputs": [],
   "source": [
    "%load_ext line_profiler"
   ]
  },
  {
   "cell_type": "code",
   "execution_count": null,
   "id": "e62f162a-f224-4d89-84aa-19a2066ec630",
   "metadata": {},
   "outputs": [],
   "source": [
    "%lprun -f mat_mul_2 mat_mul_2(A,B)"
   ]
  },
  {
   "cell_type": "code",
   "execution_count": null,
   "id": "b4158cb6-a234-4428-946e-b9649efdbc6b",
   "metadata": {},
   "outputs": [],
   "source": [
    "%lprun -f mat_mul_3 mat_mul_3(A,B)"
   ]
  },
  {
   "cell_type": "markdown",
   "id": "61c6148b-b53c-4cfa-8d8f-c5f5fac1f505",
   "metadata": {},
   "source": [
    "## Conclusion 1: Python loops are already fast\n",
    "List comprehensions are just python loops. Python loops are already extremely well optimised (in python 3) so there is no (speed) optimisation to be had.\n",
    "List comprehensions tend to be harder to read, and harder to profile, especially when they are chained together like this.\n",
    "\n",
    "Use list comprehensions sparingly.\n",
    "\n",
    "In fact, for operations such as matrix multiplication we should not rely on pure python code.\n",
    "Instead we should look for libraries that do this manipulation for us.\n",
    "\n",
    "The numerical python library `numpy` has a matrix multiplication method called `matmul` that will do this for us.\n",
    "As a bonus, this relies on C-level library calls, which use optimised linear algebra libraries on your system like BLAS, LAPAC, ATLAS, etc (if installed)"
   ]
  },
  {
   "cell_type": "code",
   "execution_count": null,
   "id": "0d07250a-ec60-4907-8ca9-b9a1a9f8f91e",
   "metadata": {},
   "outputs": [],
   "source": [
    "# create another function which is just the numpy version\n",
    "mat_mul_4 = np.matmul"
   ]
  },
  {
   "cell_type": "code",
   "execution_count": null,
   "id": "632e7d47-fbdf-4cb0-8bed-5d609bddad0f",
   "metadata": {},
   "outputs": [],
   "source": [
    "#Test that we get the right result\n",
    "correct(A,B,C,mat_mul_4)"
   ]
  },
  {
   "cell_type": "code",
   "execution_count": null,
   "id": "25141334-01b5-4b4b-a4bc-499e6beafc5c",
   "metadata": {},
   "outputs": [],
   "source": [
    "%timeit mat_mul_4(A,B)"
   ]
  },
  {
   "cell_type": "markdown",
   "id": "d8548272-57b3-47a9-902f-caea33d8d686",
   "metadata": {},
   "source": [
    "Notice that this now takes **micro**seconds instead of **milli**seconds to run. Seems like we'll get the best result just by implementing existing code.\n",
    "\n",
    "One caveat is that `numpy` works with it's own data types so in the call above we are converting the A,B list-of-list into a numpy.ndarray before doing the multiplication\n",
    "If we instead use numpy data types directly we get a different result:"
   ]
  },
  {
   "cell_type": "code",
   "execution_count": null,
   "id": "a7c0266a-2f32-402a-93d7-141cbbda8160",
   "metadata": {},
   "outputs": [],
   "source": [
    "D = np.array(A)\n",
    "E = np.array(B)"
   ]
  },
  {
   "cell_type": "code",
   "execution_count": null,
   "id": "e8046966-3f4f-4d3f-91ea-a348f0a3d46a",
   "metadata": {},
   "outputs": [],
   "source": [
    "%timeit mat_mul_4(D,E)"
   ]
  },
  {
   "cell_type": "markdown",
   "id": "033d0a32-899c-4bc8-a83d-840d3feeac20",
   "metadata": {},
   "source": [
    "The overhead in converting a python list into a numpy ndarray is *significant*, and in this case it is **greater than the time to compute our result**."
   ]
  },
  {
   "cell_type": "markdown",
   "id": "1c6e0310-eaa1-49c8-be47-bda339443eb0",
   "metadata": {},
   "source": [
    "## Conclusion 2: Don't re-invent the wheel\n",
    "Look for an use existing libraries before you write code, and **especially** before you do any optimisation work."
   ]
  },
  {
   "cell_type": "markdown",
   "id": "583b582f-4e1e-455f-b82e-fd53d6d424ef",
   "metadata": {},
   "source": [
    "# Task 2\n",
    "\n",
    "We will now look at an example of some code that I wrote a few years ago before I learned the above lesssons.\n",
    "\n",
    "In this example we'll be performing the task called sigma clipping. The idea here is that you take a list of input values, compute the mean and standard deviation and then remove all values that fall outside some sigma range. The process is repeated until the list of items is stable (or zero)."
   ]
  },
  {
   "cell_type": "code",
   "execution_count": null,
   "id": "89bdc0ad-a9e8-40c4-822d-9ed7e31c13e8",
   "metadata": {},
   "outputs": [],
   "source": [
    "data = np.concatenate((np.linspace(9.5, 10.5, 31),\n",
    "                    np.linspace(0, 20, 5)))\n",
    "# it's important for our code that nan/inf values are rejected correctly so we include them in our test data\n",
    "data[0] = np.nan\n",
    "data[-1] = np.inf"
   ]
  },
  {
   "cell_type": "code",
   "execution_count": null,
   "id": "9ece0723-f6e2-4a8e-a9a5-82368e4afd0a",
   "metadata": {},
   "outputs": [],
   "source": [
    "def sigmaclip(arr, lo=6, hi=6):\n",
    "    \"\"\"\n",
    "    Perform sigma clipping on an array, ignoring non finite values.\n",
    "    During each iteration return an array whose elements c obey:\n",
    "    mean -std*lo < c < mean + std*hi\n",
    "    where mean/std are the mean std of the input array.\n",
    "    \n",
    "    Continue until the members of c are stable.\n",
    "    \n",
    "    Parameters\n",
    "    ----------\n",
    "    arr : iterable\n",
    "        An iterable array of numeric types.\n",
    "    lo : float\n",
    "        The negative clipping level.\n",
    "    hi : float\n",
    "        The positive clipping level.\n",
    "        \n",
    "    Returns\n",
    "    -------\n",
    "    mean : float\n",
    "        The mean of the array, possibly nan\n",
    "    std : float\n",
    "        The std of the array, possibly nan\n",
    "    \"\"\"\n",
    "    # Remove inf/nan values from our data\n",
    "    clipped = [ a for a in arr if np.isfinite(a)]\n",
    "\n",
    "    if len(clipped) < 1:\n",
    "        return np.nan, np.nan\n",
    "\n",
    "    std = np.std(clipped)\n",
    "    mean = np.mean(clipped)\n",
    "    elements = len(clipped)\n",
    "    p_elements = elements+1\n",
    "    while elements < p_elements:\n",
    "        p_elements = elements\n",
    "        clipped = [ a for a in clipped if a>mean-std*lo]\n",
    "        clipped = [ a for a in clipped if a<mean+std*hi]\n",
    "        elements = len(clipped)\n",
    "        std = np.std(clipped)\n",
    "        mean = np.mean(clipped)\n",
    "    return clipped, mean, std"
   ]
  },
  {
   "cell_type": "markdown",
   "id": "b1d78951-0f53-4c28-be15-bd4d46c50d59",
   "metadata": {},
   "source": [
    "We want to compare this to the (nearly) equivalent function provided by scipy.\n",
    "The scipy function does almost what we want so we write a small wrapper around it to get behaviour equivalent to the above.\n",
    "\n",
    "NB: this was not part of scipy.stats at the time the above code was written!"
   ]
  },
  {
   "cell_type": "code",
   "execution_count": null,
   "id": "f917f950-3c53-406a-9501-6a82e7e54735",
   "metadata": {},
   "outputs": [],
   "source": [
    "import scipy\n",
    "import scipy.stats"
   ]
  },
  {
   "cell_type": "code",
   "execution_count": null,
   "id": "f631be42-f392-44ec-8cac-b4e347d38db3",
   "metadata": {},
   "outputs": [],
   "source": [
    "def scipy_sigmaclip(arr, lo, hi):\n",
    "    \"\"\"\n",
    "    This is a wrapper around scipy.stats.sigma_clip that will give the same results as our own sigma_clip function.\n",
    "    \"\"\"\n",
    "    # Remove inf/nan values from our data\n",
    "    clipped = [ a for a in arr if np.isfinite(a)]\n",
    "    \n",
    "    # reading the help for scipy.stats.sigmaclip we see that the returned values are:\n",
    "    # array, min value, max value\n",
    "    # but we want:\n",
    "    # array, mean, std\n",
    "    clipped, _ ,_ = scipy.stats.sigmaclip(clipped, lo, hi)\n",
    "    mean,std =  np.mean(clipped), np.std(clipped)\n",
    "    return clipped, mean, std\n",
    "    "
   ]
  },
  {
   "cell_type": "markdown",
   "id": "f008c9ea-0ccb-4ee0-8354-709fe6d83731",
   "metadata": {},
   "source": [
    "As usual we want to make sure that our two functions agree before we do any profiling or optimisation work"
   ]
  },
  {
   "cell_type": "code",
   "execution_count": null,
   "id": "e0cd8ed4-2e90-4ad2-b734-2b3013d82002",
   "metadata": {},
   "outputs": [],
   "source": [
    "def compare_sigmas(data, lo, hi, func1, func2):\n",
    "    ans1 = func1(data, lo, hi)\n",
    "    ans2 = func2(data, lo, hi)\n",
    "    print(\"The mean/std agree: \", ans1[1:] == ans2[1:])\n",
    "    print(\"The returned arrays agree: \",np.all(ans1[0] == ans2[0]))"
   ]
  },
  {
   "cell_type": "code",
   "execution_count": null,
   "id": "aee6193d-7dfd-4983-b6d6-b21e54a5b944",
   "metadata": {},
   "outputs": [],
   "source": [
    "compare_sigmas(data, 2, 2, sigmaclip, scipy_sigmaclip)"
   ]
  },
  {
   "cell_type": "markdown",
   "id": "98a6efe4-863b-43ca-80d0-7a5c5ac6d8eb",
   "metadata": {},
   "source": [
    "Now that they agree we can compare their run times:"
   ]
  },
  {
   "cell_type": "code",
   "execution_count": null,
   "id": "c45b9dff-c67c-4848-a7af-c47bf7ae0fcf",
   "metadata": {},
   "outputs": [],
   "source": [
    "%timeit sigmaclip(data, 2, 2)"
   ]
  },
  {
   "cell_type": "code",
   "execution_count": null,
   "id": "ec05b79c-b643-447d-9e06-549e22f9af29",
   "metadata": {},
   "outputs": [],
   "source": [
    "%timeit scipy_sigmaclip(data, 2,2)"
   ]
  },
  {
   "cell_type": "code",
   "execution_count": null,
   "id": "5af8cba5-3968-40d7-9fc5-e0b7a255814c",
   "metadata": {},
   "outputs": [],
   "source": [
    "# see where sigmaclip spends it's time by running a lineprofile on it\n",
    "%lprun "
   ]
  },
  {
   "cell_type": "code",
   "execution_count": null,
   "id": "d364be57-b2c9-4b74-b075-c466683a6bfe",
   "metadata": {},
   "outputs": [],
   "source": [
    "# and now the same for our scipy wrapper function\n",
    "%lprun "
   ]
  },
  {
   "cell_type": "markdown",
   "id": "087fc653-b801-4347-91d6-47752ed72ebe",
   "metadata": {},
   "source": [
    "What do you notice about the wrapper function and where it is spending time?"
   ]
  },
  {
   "cell_type": "markdown",
   "id": "f0c7fd43-95e3-4433-81e7-a98530e4e3ce",
   "metadata": {},
   "source": [
    "### Discussion: Which of the above two solutions would you use?\n",
    "- which is the fastest?\n",
    "- which is easier to develop?\n",
    "- which is easier to maintain?"
   ]
  },
  {
   "cell_type": "markdown",
   "id": "430578d5-abc3-4afc-b498-2cbd6bbd2eb5",
   "metadata": {},
   "source": [
    "# Task 2: Optimisation practice\n",
    "\n",
    "- Look over the line profiling for sigmaclip and identify some lines which have a non-negligible fraction of the total time spent on them.\n",
    "- Identify a way to either speed up (or elliminate) these lines.\n",
    "\n",
    "Suggestions:\n",
    "- removing inf/nan values\n",
    "- reconstructing the clipped array"
   ]
  },
  {
   "cell_type": "code",
   "execution_count": null,
   "id": "88042bd3-ddbc-47b5-b7f4-4fc805068013",
   "metadata": {},
   "outputs": [],
   "source": [
    "def sigmaclip2(arr, lo=6, hi=6):\n",
    "    \"\"\"\n",
    "    As per sigmaclip2 but with some optimisation!\n",
    "    \"\"\"\n",
    "    # Remove inf/nan values from our data\n",
    "    clipped = [ a for a in arr if np.isfinite(a)]\n",
    "\n",
    "    if len(clipped) < 1:\n",
    "        return np.nan, np.nan\n",
    "\n",
    "    std = np.std(clipped)\n",
    "    mean = np.mean(clipped)\n",
    "    elements = len(clipped)\n",
    "    p_elements = elements+1\n",
    "    while elements < p_elements:\n",
    "        p_elements = elements\n",
    "        clipped = [ a for a in clipped if a>mean-std*lo]\n",
    "        clipped = [ a for a in clipped if a<mean+std*hi]\n",
    "        elements = len(clipped)\n",
    "        std = np.std(clipped)\n",
    "        mean = np.mean(clipped)\n",
    "    return clipped, mean, std"
   ]
  },
  {
   "cell_type": "markdown",
   "id": "e5ab7734-dca1-40e3-8535-1c79d791ca42",
   "metadata": {},
   "source": [
    "Remember to compare to the scipy_sigmaclip first to ensure that you have a working function"
   ]
  },
  {
   "cell_type": "code",
   "execution_count": null,
   "id": "a5f75fea-7b6f-4bb6-88eb-5d3072c09c4d",
   "metadata": {},
   "outputs": [],
   "source": [
    "compare_sigmas(data, 2, 2, sigmaclip2, scipy_sigmaclip)"
   ]
  },
  {
   "cell_type": "code",
   "execution_count": null,
   "id": "d76f1400-53b8-4968-be80-2b4482d1343b",
   "metadata": {},
   "outputs": [],
   "source": [
    "%timeit sigmaclip2(data,2,2)"
   ]
  },
  {
   "cell_type": "code",
   "execution_count": null,
   "id": "87eebf6e-9d50-45fd-b4ca-f51c99b8cd0b",
   "metadata": {},
   "outputs": [],
   "source": [
    "%lprun -f sigmaclip2 sigmaclip2(data,2,2)"
   ]
  }
 ],
 "metadata": {
  "kernelspec": {
   "display_name": "Python 3",
   "language": "python",
   "name": "python3"
  },
  "language_info": {
   "codemirror_mode": {
    "name": "ipython",
    "version": 3
   },
   "file_extension": ".py",
   "mimetype": "text/x-python",
   "name": "python",
   "nbconvert_exporter": "python",
   "pygments_lexer": "ipython3",
   "version": "3.9.4"
  }
 },
 "nbformat": 4,
 "nbformat_minor": 5
}
